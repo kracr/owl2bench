{
 "cells": [
  {
   "cell_type": "code",
   "execution_count": 40,
   "metadata": {},
   "outputs": [],
   "source": [
    "import numpy as np\n",
    "import pandas as pd\n",
    "import os \n",
    "from sklearn.preprocessing import StandardScaler\n",
    "from sklearn.preprocessing import MinMaxScaler\n",
    "import matplotlib.pyplot as plt\n",
    "from sklearn.cluster import KMeans\n",
    "%matplotlib inline\n",
    "\n",
    "#*********this section is for the checking of efficient clustering methods **********************\n",
    "#*************All these clustering method are explained in the report *********************"
   ]
  },
  {
   "cell_type": "code",
   "execution_count": 41,
   "metadata": {},
   "outputs": [
    {
     "name": "stdout",
     "output_type": "stream",
     "text": [
      "['file_1.csv', 'file_10.csv', 'file_11.csv', 'file_12.csv', 'file_13.csv', 'file_14.csv', 'file_15.csv', 'file_16.csv', 'file_17.csv', 'file_18.csv', 'file_19.csv', 'file_2.csv', 'file_20.csv', 'file_21.csv', 'file_22.csv', 'file_23.csv', 'file_24.csv', 'file_25.csv', 'file_26.csv', 'file_27.csv', 'file_28.csv', 'file_29.csv', 'file_3.csv', 'file_30.csv', 'file_31.csv', 'file_32.csv', 'file_33.csv', 'file_34.csv', 'file_35.csv', 'file_36.csv', 'file_37.csv', 'file_38.csv', 'file_39.csv', 'file_4.csv', 'file_40.csv', 'file_41.csv', 'file_42.csv', 'file_43.csv', 'file_44.csv', 'file_45.csv', 'file_46.csv', 'file_47.csv', 'file_48.csv', 'file_49.csv', 'file_5.csv', 'file_50.csv', 'file_51.csv', 'file_52.csv', 'file_53.csv', 'file_54.csv', 'file_55.csv', 'file_56.csv', 'file_57.csv', 'file_58.csv', 'file_59.csv', 'file_6.csv', 'file_7.csv', 'file_8.csv', 'file_9.csv']\n"
     ]
    }
   ],
   "source": [
    "dir_list=sorted(os.listdir(\"/home/ritam/ontology_hardness/dataset\"))\n",
    "                            # give the path of the directory where all files with computed, reasoning tasks time\n",
    "                            # and memory consumption\n",
    "                            # this 'dir_list' contains file names in this directory but some files are in the \n",
    "                            # format like '.~lock.file_58.csv#' which needs to be get rid off\n",
    "\n",
    "print(dir_list) "
   ]
  },
  {
   "cell_type": "code",
   "execution_count": 42,
   "metadata": {},
   "outputs": [
    {
     "name": "stdout",
     "output_type": "stream",
     "text": [
      "total ontologies with reasoning tasks , time and memory consumption\n",
      "(16434, 8)\n",
      "(16434, 7)\n"
     ]
    },
    {
     "data": {
      "text/html": [
       "<div>\n",
       "<style scoped>\n",
       "    .dataframe tbody tr th:only-of-type {\n",
       "        vertical-align: middle;\n",
       "    }\n",
       "\n",
       "    .dataframe tbody tr th {\n",
       "        vertical-align: top;\n",
       "    }\n",
       "\n",
       "    .dataframe thead th {\n",
       "        text-align: right;\n",
       "    }\n",
       "</style>\n",
       "<table border=\"1\" class=\"dataframe\">\n",
       "  <thead>\n",
       "    <tr style=\"text-align: right;\">\n",
       "      <th></th>\n",
       "      <th>file</th>\n",
       "      <th>size_kb</th>\n",
       "      <th>consistency_time_milsecs</th>\n",
       "      <th>consistency_size_kb</th>\n",
       "      <th>realisation_time_milsecs</th>\n",
       "      <th>realisation_size_kb</th>\n",
       "      <th>classification_time_milsecs</th>\n",
       "      <th>classification_size_kb</th>\n",
       "    </tr>\n",
       "  </thead>\n",
       "  <tbody>\n",
       "    <tr>\n",
       "      <th>0</th>\n",
       "      <td>0000212a-38bc-4129-898f-70d1e9114863_Lion_Bar....</td>\n",
       "      <td>95</td>\n",
       "      <td>27</td>\n",
       "      <td>16240</td>\n",
       "      <td>28</td>\n",
       "      <td>17252</td>\n",
       "      <td>27</td>\n",
       "      <td>16976</td>\n",
       "    </tr>\n",
       "    <tr>\n",
       "      <th>1</th>\n",
       "      <td>00006.owl_functional.owl</td>\n",
       "      <td>425</td>\n",
       "      <td>51</td>\n",
       "      <td>17836</td>\n",
       "      <td>75</td>\n",
       "      <td>22824</td>\n",
       "      <td>61</td>\n",
       "      <td>22320</td>\n",
       "    </tr>\n",
       "    <tr>\n",
       "      <th>2</th>\n",
       "      <td>00008.owl_functional.owl</td>\n",
       "      <td>130</td>\n",
       "      <td>43</td>\n",
       "      <td>19856</td>\n",
       "      <td>43</td>\n",
       "      <td>21168</td>\n",
       "      <td>45</td>\n",
       "      <td>20884</td>\n",
       "    </tr>\n",
       "    <tr>\n",
       "      <th>3</th>\n",
       "      <td>00011.owl_functional.owl</td>\n",
       "      <td>77</td>\n",
       "      <td>26</td>\n",
       "      <td>15720</td>\n",
       "      <td>33</td>\n",
       "      <td>17916</td>\n",
       "      <td>33</td>\n",
       "      <td>17992</td>\n",
       "    </tr>\n",
       "    <tr>\n",
       "      <th>4</th>\n",
       "      <td>00012.owl_functional.owl</td>\n",
       "      <td>99</td>\n",
       "      <td>30</td>\n",
       "      <td>16024</td>\n",
       "      <td>34</td>\n",
       "      <td>17688</td>\n",
       "      <td>32</td>\n",
       "      <td>17696</td>\n",
       "    </tr>\n",
       "    <tr>\n",
       "      <th>...</th>\n",
       "      <td>...</td>\n",
       "      <td>...</td>\n",
       "      <td>...</td>\n",
       "      <td>...</td>\n",
       "      <td>...</td>\n",
       "      <td>...</td>\n",
       "      <td>...</td>\n",
       "      <td>...</td>\n",
       "    </tr>\n",
       "    <tr>\n",
       "      <th>290</th>\n",
       "      <td>444a3020-7ef8-4893-aa7f-d555311a37bb_ysfunctio...</td>\n",
       "      <td>151</td>\n",
       "      <td>24</td>\n",
       "      <td>15596</td>\n",
       "      <td>30</td>\n",
       "      <td>17100</td>\n",
       "      <td>31</td>\n",
       "      <td>16732</td>\n",
       "    </tr>\n",
       "    <tr>\n",
       "      <th>291</th>\n",
       "      <td>444cb459-2fa5-4e39-88a4-3f48286bf7ff_sioc.rdf_...</td>\n",
       "      <td>31</td>\n",
       "      <td>23</td>\n",
       "      <td>15288</td>\n",
       "      <td>25</td>\n",
       "      <td>15628</td>\n",
       "      <td>21</td>\n",
       "      <td>15376</td>\n",
       "    </tr>\n",
       "    <tr>\n",
       "      <th>292</th>\n",
       "      <td>44554ad1-5e09-4f62-b55e-1a566d4310a3_Sardine.r...</td>\n",
       "      <td>95</td>\n",
       "      <td>30</td>\n",
       "      <td>16148</td>\n",
       "      <td>31</td>\n",
       "      <td>17088</td>\n",
       "      <td>29</td>\n",
       "      <td>16888</td>\n",
       "    </tr>\n",
       "    <tr>\n",
       "      <th>293</th>\n",
       "      <td>445e2e48-85ed-44f6-a0b9-8b43b9d81c3e_Khoa.rdf_...</td>\n",
       "      <td>95</td>\n",
       "      <td>30</td>\n",
       "      <td>16236</td>\n",
       "      <td>31</td>\n",
       "      <td>17296</td>\n",
       "      <td>28</td>\n",
       "      <td>16952</td>\n",
       "    </tr>\n",
       "    <tr>\n",
       "      <th>294</th>\n",
       "      <td>44618447-fec3-4019-a114-7d8f756d0db3_Provenanc...</td>\n",
       "      <td>243</td>\n",
       "      <td>49</td>\n",
       "      <td>19596</td>\n",
       "      <td>55</td>\n",
       "      <td>21640</td>\n",
       "      <td>52</td>\n",
       "      <td>20880</td>\n",
       "    </tr>\n",
       "  </tbody>\n",
       "</table>\n",
       "<p>16434 rows × 8 columns</p>\n",
       "</div>"
      ],
      "text/plain": [
       "                                                  file size_kb  \\\n",
       "0    0000212a-38bc-4129-898f-70d1e9114863_Lion_Bar....      95   \n",
       "1                             00006.owl_functional.owl     425   \n",
       "2                             00008.owl_functional.owl     130   \n",
       "3                             00011.owl_functional.owl      77   \n",
       "4                             00012.owl_functional.owl      99   \n",
       "..                                                 ...     ...   \n",
       "290  444a3020-7ef8-4893-aa7f-d555311a37bb_ysfunctio...     151   \n",
       "291  444cb459-2fa5-4e39-88a4-3f48286bf7ff_sioc.rdf_...      31   \n",
       "292  44554ad1-5e09-4f62-b55e-1a566d4310a3_Sardine.r...      95   \n",
       "293  445e2e48-85ed-44f6-a0b9-8b43b9d81c3e_Khoa.rdf_...      95   \n",
       "294  44618447-fec3-4019-a114-7d8f756d0db3_Provenanc...     243   \n",
       "\n",
       "    consistency_time_milsecs consistency_size_kb realisation_time_milsecs  \\\n",
       "0                         27               16240                       28   \n",
       "1                         51               17836                       75   \n",
       "2                         43               19856                       43   \n",
       "3                         26               15720                       33   \n",
       "4                         30               16024                       34   \n",
       "..                       ...                 ...                      ...   \n",
       "290                       24               15596                       30   \n",
       "291                       23               15288                       25   \n",
       "292                       30               16148                       31   \n",
       "293                       30               16236                       31   \n",
       "294                       49               19596                       55   \n",
       "\n",
       "    realisation_size_kb classification_time_milsecs classification_size_kb  \n",
       "0                 17252                          27                  16976  \n",
       "1                 22824                          61                  22320  \n",
       "2                 21168                          45                  20884  \n",
       "3                 17916                          33                  17992  \n",
       "4                 17688                          32                  17696  \n",
       "..                  ...                         ...                    ...  \n",
       "290               17100                          31                  16732  \n",
       "291               15628                          21                  15376  \n",
       "292               17088                          29                  16888  \n",
       "293               17296                          28                  16952  \n",
       "294               21640                          52                  20880  \n",
       "\n",
       "[16434 rows x 8 columns]"
      ]
     },
     "execution_count": 42,
     "metadata": {},
     "output_type": "execute_result"
    }
   ],
   "source": [
    "l=0\n",
    "final_df=pd.DataFrame(columns=['size_kb', 'consistency_time_milsecs', 'consistency_size_kb',\n",
    "       'realisation_time_milsecs', 'realisation_size_kb',\n",
    "       'classification_time_milsecs', 'classification_size_kb'])\n",
    "\n",
    "full_dataframe = pd.DataFrame(columns=['file','size_kb', 'consistency_time_milsecs', 'consistency_size_kb',\n",
    "       'realisation_time_milsecs', 'realisation_size_kb',\n",
    "       'classification_time_milsecs', 'classification_size_kb'])\n",
    "\n",
    "\n",
    "for i in range(len(dir_list)):\n",
    "    if dir_list[i][0]=='f': # considering files int the correct format\n",
    "        x=dir_list[i]\n",
    "        \n",
    "        path=\"/home/ritam/ontology_hardness/dataset/\"+x\n",
    "        z=pd.read_csv(path)\n",
    "        z_drop=z.drop(['file'],axis=1)\n",
    "        final_df=pd.concat([final_df,z_drop])\n",
    "        \n",
    "        full_dataframe=pd.concat([full_dataframe,z])\n",
    "        \n",
    "print(\"total ontologies with reasoning tasks , time and memory consumption\")\n",
    "print(full_dataframe.shape) # contains all the ontologies (only consistent) with file name, size and 6 \n",
    "                            # feature values\n",
    "print(final_df.shape) # same as full_dataframe but donot contains the file name , rest are same\n",
    "full_dataframe\n"
   ]
  },
  {
   "cell_type": "code",
   "execution_count": 43,
   "metadata": {},
   "outputs": [
    {
     "data": {
      "text/html": [
       "<div>\n",
       "<style scoped>\n",
       "    .dataframe tbody tr th:only-of-type {\n",
       "        vertical-align: middle;\n",
       "    }\n",
       "\n",
       "    .dataframe tbody tr th {\n",
       "        vertical-align: top;\n",
       "    }\n",
       "\n",
       "    .dataframe thead th {\n",
       "        text-align: right;\n",
       "    }\n",
       "</style>\n",
       "<table border=\"1\" class=\"dataframe\">\n",
       "  <thead>\n",
       "    <tr style=\"text-align: right;\">\n",
       "      <th></th>\n",
       "      <th>size_kb</th>\n",
       "      <th>consistency_time_milsecs</th>\n",
       "      <th>consistency_size_kb</th>\n",
       "      <th>realisation_time_milsecs</th>\n",
       "      <th>realisation_size_kb</th>\n",
       "      <th>classification_time_milsecs</th>\n",
       "      <th>classification_size_kb</th>\n",
       "    </tr>\n",
       "  </thead>\n",
       "  <tbody>\n",
       "    <tr>\n",
       "      <th>0</th>\n",
       "      <td>0.000049</td>\n",
       "      <td>6.481351e-07</td>\n",
       "      <td>0.000013</td>\n",
       "      <td>5.092071e-07</td>\n",
       "      <td>0.000017</td>\n",
       "      <td>5.091955e-07</td>\n",
       "      <td>0.000015</td>\n",
       "    </tr>\n",
       "    <tr>\n",
       "      <th>1</th>\n",
       "      <td>0.000248</td>\n",
       "      <td>1.759224e-06</td>\n",
       "      <td>0.000026</td>\n",
       "      <td>2.684910e-06</td>\n",
       "      <td>0.000060</td>\n",
       "      <td>2.083073e-06</td>\n",
       "      <td>0.000057</td>\n",
       "    </tr>\n",
       "    <tr>\n",
       "      <th>2</th>\n",
       "      <td>0.000070</td>\n",
       "      <td>1.388861e-06</td>\n",
       "      <td>0.000041</td>\n",
       "      <td>1.203580e-06</td>\n",
       "      <td>0.000047</td>\n",
       "      <td>1.342425e-06</td>\n",
       "      <td>0.000046</td>\n",
       "    </tr>\n",
       "    <tr>\n",
       "      <th>3</th>\n",
       "      <td>0.000038</td>\n",
       "      <td>6.018397e-07</td>\n",
       "      <td>0.000009</td>\n",
       "      <td>7.406649e-07</td>\n",
       "      <td>0.000022</td>\n",
       "      <td>7.869386e-07</td>\n",
       "      <td>0.000023</td>\n",
       "    </tr>\n",
       "    <tr>\n",
       "      <th>4</th>\n",
       "      <td>0.000051</td>\n",
       "      <td>7.870212e-07</td>\n",
       "      <td>0.000012</td>\n",
       "      <td>7.869564e-07</td>\n",
       "      <td>0.000020</td>\n",
       "      <td>7.406481e-07</td>\n",
       "      <td>0.000021</td>\n",
       "    </tr>\n",
       "    <tr>\n",
       "      <th>...</th>\n",
       "      <td>...</td>\n",
       "      <td>...</td>\n",
       "      <td>...</td>\n",
       "      <td>...</td>\n",
       "      <td>...</td>\n",
       "      <td>...</td>\n",
       "      <td>...</td>\n",
       "    </tr>\n",
       "    <tr>\n",
       "      <th>16429</th>\n",
       "      <td>0.000083</td>\n",
       "      <td>5.092490e-07</td>\n",
       "      <td>0.000008</td>\n",
       "      <td>6.017902e-07</td>\n",
       "      <td>0.000016</td>\n",
       "      <td>6.943576e-07</td>\n",
       "      <td>0.000013</td>\n",
       "    </tr>\n",
       "    <tr>\n",
       "      <th>16430</th>\n",
       "      <td>0.000010</td>\n",
       "      <td>4.629536e-07</td>\n",
       "      <td>0.000006</td>\n",
       "      <td>3.703324e-07</td>\n",
       "      <td>0.000004</td>\n",
       "      <td>2.314525e-07</td>\n",
       "      <td>0.000003</td>\n",
       "    </tr>\n",
       "    <tr>\n",
       "      <th>16431</th>\n",
       "      <td>0.000049</td>\n",
       "      <td>7.870212e-07</td>\n",
       "      <td>0.000013</td>\n",
       "      <td>6.480818e-07</td>\n",
       "      <td>0.000016</td>\n",
       "      <td>6.017765e-07</td>\n",
       "      <td>0.000015</td>\n",
       "    </tr>\n",
       "    <tr>\n",
       "      <th>16432</th>\n",
       "      <td>0.000049</td>\n",
       "      <td>7.870212e-07</td>\n",
       "      <td>0.000013</td>\n",
       "      <td>6.480818e-07</td>\n",
       "      <td>0.000017</td>\n",
       "      <td>5.554860e-07</td>\n",
       "      <td>0.000015</td>\n",
       "    </tr>\n",
       "    <tr>\n",
       "      <th>16433</th>\n",
       "      <td>0.000138</td>\n",
       "      <td>1.666633e-06</td>\n",
       "      <td>0.000039</td>\n",
       "      <td>1.759079e-06</td>\n",
       "      <td>0.000051</td>\n",
       "      <td>1.666458e-06</td>\n",
       "      <td>0.000046</td>\n",
       "    </tr>\n",
       "  </tbody>\n",
       "</table>\n",
       "<p>16434 rows × 7 columns</p>\n",
       "</div>"
      ],
      "text/plain": [
       "        size_kb  consistency_time_milsecs  consistency_size_kb  \\\n",
       "0      0.000049              6.481351e-07             0.000013   \n",
       "1      0.000248              1.759224e-06             0.000026   \n",
       "2      0.000070              1.388861e-06             0.000041   \n",
       "3      0.000038              6.018397e-07             0.000009   \n",
       "4      0.000051              7.870212e-07             0.000012   \n",
       "...         ...                       ...                  ...   \n",
       "16429  0.000083              5.092490e-07             0.000008   \n",
       "16430  0.000010              4.629536e-07             0.000006   \n",
       "16431  0.000049              7.870212e-07             0.000013   \n",
       "16432  0.000049              7.870212e-07             0.000013   \n",
       "16433  0.000138              1.666633e-06             0.000039   \n",
       "\n",
       "       realisation_time_milsecs  realisation_size_kb  \\\n",
       "0                  5.092071e-07             0.000017   \n",
       "1                  2.684910e-06             0.000060   \n",
       "2                  1.203580e-06             0.000047   \n",
       "3                  7.406649e-07             0.000022   \n",
       "4                  7.869564e-07             0.000020   \n",
       "...                         ...                  ...   \n",
       "16429              6.017902e-07             0.000016   \n",
       "16430              3.703324e-07             0.000004   \n",
       "16431              6.480818e-07             0.000016   \n",
       "16432              6.480818e-07             0.000017   \n",
       "16433              1.759079e-06             0.000051   \n",
       "\n",
       "       classification_time_milsecs  classification_size_kb  \n",
       "0                     5.091955e-07                0.000015  \n",
       "1                     2.083073e-06                0.000057  \n",
       "2                     1.342425e-06                0.000046  \n",
       "3                     7.869386e-07                0.000023  \n",
       "4                     7.406481e-07                0.000021  \n",
       "...                            ...                     ...  \n",
       "16429                 6.943576e-07                0.000013  \n",
       "16430                 2.314525e-07                0.000003  \n",
       "16431                 6.017765e-07                0.000015  \n",
       "16432                 5.554860e-07                0.000015  \n",
       "16433                 1.666458e-06                0.000046  \n",
       "\n",
       "[16434 rows x 7 columns]"
      ]
     },
     "execution_count": 43,
     "metadata": {},
     "output_type": "execute_result"
    }
   ],
   "source": [
    "#use of minmax scalar to scale the dataframe 'final_df' , so that every feature values comes in 0 to 1\n",
    "#this makes every feature to be in same scale\n",
    "final_np=np.array(final_df)\n",
    "scaler = MinMaxScaler()\n",
    "scaler.fit(final_df)\n",
    "final_df_scaled=scaler.transform(final_df)\n",
    "#print(final_df_scaled)\n",
    "df_MinMax = pd.DataFrame(data=final_df_scaled, columns=['size_kb', 'consistency_time_milsecs', 'consistency_size_kb',\n",
    "       'realisation_time_milsecs', 'realisation_size_kb',\n",
    "       'classification_time_milsecs', 'classification_size_kb'])\n",
    "df_MinMax  # this dataframe contains the scaled version of 'final_df'"
   ]
  },
  {
   "cell_type": "code",
   "execution_count": 44,
   "metadata": {},
   "outputs": [
    {
     "name": "stdout",
     "output_type": "stream",
     "text": [
      "(16433, 8)\n",
      "(16433, 7)\n"
     ]
    }
   ],
   "source": [
    "# We have taken a subset of 16433 ontologies to work with. This is an option provided to take any subset \n",
    "# to work with, further downwards\n",
    "\n",
    "#'partial_dataframe' contains the subset of 'full_dataframe'. This 'partial_dataframe' is used in further \n",
    "# processing \n",
    "\n",
    "partial_dataframe=full_dataframe.iloc[0:16433,:]  # 'partial_dataframe' contains non scaled values\n",
    "print(partial_dataframe.shape)\n",
    "\n",
    "t=df_MinMax.head(16433)  # dataframe 't' contains scaled values and a subset of 'df_MinMax'\n",
    "print(t.shape)\n",
    "\n",
    "# this subset value should be same for both cases"
   ]
  },
  {
   "cell_type": "code",
   "execution_count": 45,
   "metadata": {},
   "outputs": [
    {
     "name": "stdout",
     "output_type": "stream",
     "text": [
      "KMeans(n_clusters=3, random_state=0)\n",
      "[0 0 0 ... 0 0 0] 118\n"
     ]
    },
    {
     "name": "stderr",
     "output_type": "stream",
     "text": [
      "<ipython-input-45-9fe81020f63d>:11: SettingWithCopyWarning: \n",
      "A value is trying to be set on a copy of a slice from a DataFrame.\n",
      "Try using .loc[row_indexer,col_indexer] = value instead\n",
      "\n",
      "See the caveats in the documentation: https://pandas.pydata.org/pandas-docs/stable/user_guide/indexing.html#returning-a-view-versus-a-copy\n",
      "  t['cluster']=y_predicted\n"
     ]
    },
    {
     "data": {
      "image/png": "[encoded data removed]",
      "text/plain": [
       "<Figure size 432x288 with 1 Axes>"
      ]
     },
     "metadata": {
      "needs_background": "light"
     },
     "output_type": "display_data"
    }
   ],
   "source": [
    "# K-means clustering based on time into easy, medium and hard category , we get 3 categories\n",
    "# this is the first clustering.\n",
    "\n",
    "#*****  checking  the first clustering method**************\n",
    "\n",
    "km = KMeans(n_clusters=3,random_state=0)\n",
    "print(km)\n",
    "\n",
    "y_predicted=km.fit_predict(t[[\"consistency_time_milsecs\"]]) # first clustered on 'consistency_time_milsecs'\n",
    "print(y_predicted,np.sum(y_predicted)) # contains the predicted classes\n",
    "t['cluster']=y_predicted\n",
    "\n",
    "t1=t[t['cluster']==0] # contains the class 0\n",
    "t2=t[t['cluster']==1] # contains the class 1\n",
    "t3=t[t['cluster']==2] # contains the class 2 \n",
    "\n",
    "plt.scatter(t1[\"consistency_time_milsecs\"],t1[\"consistency_size_kb\"],c='black') # class 0 is labelled as black\n",
    "plt.scatter(t2[\"consistency_time_milsecs\"],t2[\"consistency_size_kb\"],c='green') # class 1 is labelled as green\n",
    "plt.scatter(t3[\"consistency_time_milsecs\"],t3[\"consistency_size_kb\"],c='red')   # class 2 is labelled as red\n",
    "plt.xlabel('time_in_milisecs')\n",
    "plt.ylabel('size_in_kb')\n",
    "plt.show()\n"
   ]
  },
  {
   "cell_type": "code",
   "execution_count": 46,
   "metadata": {},
   "outputs": [
    {
     "name": "stderr",
     "output_type": "stream",
     "text": [
      "<ipython-input-46-bd33910caf59>:10: SettingWithCopyWarning: \n",
      "A value is trying to be set on a copy of a slice from a DataFrame.\n",
      "Try using .loc[row_indexer,col_indexer] = value instead\n",
      "\n",
      "See the caveats in the documentation: https://pandas.pydata.org/pandas-docs/stable/user_guide/indexing.html#returning-a-view-versus-a-copy\n",
      "  partial_dataframe['label_time']=label_col #partial dataframe has label for each of the ontology\n"
     ]
    }
   ],
   "source": [
    "label_col=[]\n",
    "for i in range((y_predicted.shape[0])):\n",
    "    if y_predicted[i]==0:\n",
    "        label_col.append('easy') # black label\n",
    "    elif y_predicted[i]==1:\n",
    "        label_col.append('hard') # green label\n",
    "    else:\n",
    "        label_col.append('medium') # red label\n",
    "        \n",
    "partial_dataframe['label_time']=label_col #partial dataframe has label for each of the ontology\n"
   ]
  },
  {
   "cell_type": "code",
   "execution_count": 47,
   "metadata": {},
   "outputs": [
    {
     "name": "stdout",
     "output_type": "stream",
     "text": [
      "Maximum value of consistency time in easy time category=  308466 Minimum value of consistency time in easy time category=  13\n",
      "Shape of easy time category=  (16371, 9)\n",
      "Maximum value of consistency time in medium time category=  898338 Minimum value of consistency time in medium time category=  500321\n",
      "Shape of medium time category=  (56, 9)\n",
      "Maximum value of consistency time in hard time category=  21600449 Minimum value of consistency time in hard time category=  21600051\n",
      "Shape of hard time category=  (6, 9)\n"
     ]
    }
   ],
   "source": [
    "# this section tells after K-means clustering how many ontologies are in easy, medium and hard category\n",
    "\n",
    "# collect the easy , medium and hard ones based on time\n",
    "\n",
    "df_easy=partial_dataframe[partial_dataframe['label_time']=='easy']\n",
    "df_medium=partial_dataframe[partial_dataframe['label_time']=='medium']\n",
    "df_hard=partial_dataframe[partial_dataframe['label_time']=='hard']\n",
    "print(\"Maximum value of consistency time in easy time category= \",df_easy['consistency_time_milsecs'].max(),\"Minimum value of consistency time in easy time category= \",df_easy['consistency_time_milsecs'].min())\n",
    "print(\"Shape of easy time category= \",df_easy.shape)\n",
    "\n",
    "print(\"Maximum value of consistency time in medium time category= \",df_medium['consistency_time_milsecs'].max(),\"Minimum value of consistency time in medium time category= \",df_medium['consistency_time_milsecs'].min())\n",
    "print(\"Shape of medium time category= \",df_medium.shape)\n",
    "\n",
    "print(\"Maximum value of consistency time in hard time category= \",df_hard['consistency_time_milsecs'].max(),\"Minimum value of consistency time in hard time category= \",df_hard['consistency_time_milsecs'].min())\n",
    "print(\"Shape of hard time category= \",df_hard.shape)\n",
    "\n",
    "#********************** end of K means clustering *******************************************"
   ]
  },
  {
   "cell_type": "code",
   "execution_count": 48,
   "metadata": {},
   "outputs": [
    {
     "name": "stdout",
     "output_type": "stream",
     "text": [
      "(16433, 8)\n",
      "(16433, 7)\n"
     ]
    }
   ],
   "source": [
    "# ********** now checking the second clustering method **********************#\n",
    "#**********************BIRCH clustering ***********************************\n",
    "\n",
    "partial_dataframe=full_dataframe.iloc[0:16433,:]  # contains non scaled values\n",
    "print(partial_dataframe.shape)\n",
    "t=df_MinMax.head(16433)  # contains scaled values\n",
    "print(t.shape)\n",
    "\n"
   ]
  },
  {
   "cell_type": "code",
   "execution_count": 49,
   "metadata": {},
   "outputs": [
    {
     "name": "stdout",
     "output_type": "stream",
     "text": [
      "[0 0 0 ... 0 0 0]\n"
     ]
    },
    {
     "name": "stderr",
     "output_type": "stream",
     "text": [
      "/home/ritam/anaconda3/lib/python3.8/site-packages/sklearn/cluster/_birch.py:647: ConvergenceWarning: Number of subclusters found (1) by Birch is less than (3). Decrease the threshold.\n",
      "  warnings.warn(\n",
      "<ipython-input-49-f5a5d404f823>:9: SettingWithCopyWarning: \n",
      "A value is trying to be set on a copy of a slice from a DataFrame.\n",
      "Try using .loc[row_indexer,col_indexer] = value instead\n",
      "\n",
      "See the caveats in the documentation: https://pandas.pydata.org/pandas-docs/stable/user_guide/indexing.html#returning-a-view-versus-a-copy\n",
      "  t['cluster']=y_predicted\n"
     ]
    },
    {
     "data": {
      "image/png": "[encoded data removed]",
      "text/plain": [
       "<Figure size 432x288 with 1 Axes>"
      ]
     },
     "metadata": {
      "needs_background": "light"
     },
     "output_type": "display_data"
    }
   ],
   "source": [
    "# cluster based on time  into easy, medium and hard\n",
    "\n",
    "from sklearn.cluster import Birch\n",
    "\n",
    "brc = Birch(branching_factor=50, n_clusters=3, threshold=10) \n",
    "\n",
    "y_predicted=brc.fit_predict(t[[\"consistency_time_milsecs\"]])\n",
    "print(y_predicted)\n",
    "t['cluster']=y_predicted\n",
    "t1=t[t['cluster']==0] \n",
    "t2=t[t['cluster']==1] \n",
    "t3=t[t['cluster']==2]  \n",
    "\n",
    "plt.scatter(t1[\"consistency_time_milsecs\"],t1[\"consistency_size_kb\"],c='black')\n",
    "plt.scatter(t2[\"consistency_time_milsecs\"],t2[\"consistency_size_kb\"],c='green')\n",
    "plt.scatter(t3[\"consistency_time_milsecs\"],t3[\"consistency_size_kb\"],c='red')\n",
    "plt.xlabel('time_in_milisecs')\n",
    "plt.ylabel('size_in_kb')\n",
    "plt.show()\n"
   ]
  },
  {
   "cell_type": "code",
   "execution_count": 50,
   "metadata": {},
   "outputs": [
    {
     "name": "stderr",
     "output_type": "stream",
     "text": [
      "<ipython-input-50-1ffad2d029d6>:12: SettingWithCopyWarning: \n",
      "A value is trying to be set on a copy of a slice from a DataFrame.\n",
      "Try using .loc[row_indexer,col_indexer] = value instead\n",
      "\n",
      "See the caveats in the documentation: https://pandas.pydata.org/pandas-docs/stable/user_guide/indexing.html#returning-a-view-versus-a-copy\n",
      "  partial_dataframe['label_time']=label_col\n"
     ]
    }
   ],
   "source": [
    "# we can see there is no proper clustering happening for different parameters , just representing one class\n",
    "\n",
    "label_col=[]\n",
    "for i in range((y_predicted.shape[0])):\n",
    "    if y_predicted[i]==0:\n",
    "        label_col.append('easy') \n",
    "    elif y_predicted[i]==1:                           # we cannot group them into different classes, lets assume\n",
    "        label_col.append('hard')                      # all are in easy time category\n",
    "    else:\n",
    "        label_col.append('medium')\n",
    "        \n",
    "partial_dataframe['label_time']=label_col\n"
   ]
  },
  {
   "cell_type": "code",
   "execution_count": 51,
   "metadata": {},
   "outputs": [
    {
     "name": "stdout",
     "output_type": "stream",
     "text": [
      "Maximum value of consistency time in easy time category=  21600449 Minimum value of consistency time in easy time category=  13\n",
      "Shape of easy time category=  (16433, 9)\n",
      "Maximum value of consistency time in medium time category=  nan Minimum value of consistency time in medium time category=  nan\n",
      "Shape of medium time category=  (0, 9)\n",
      "Maximum value of consistency time in hard time category=  nan Minimum value of consistency time in hard time category=  nan\n",
      "Shape of hard time category=  (0, 9)\n"
     ]
    }
   ],
   "source": [
    "# this section tells after BIRCH clustering how many ontologies are in easy, medium and hard category\n",
    "\n",
    "# collect the easy , medium and hard ones based on time\n",
    "# we can see there are no ontologies in medium and hard category , since I assumed all ontologies to be one class\n",
    "# because BIRCH clustering doesnot give proper grouping results\n",
    "\n",
    "df_easy=partial_dataframe[partial_dataframe['label_time']=='easy']\n",
    "df_medium=partial_dataframe[partial_dataframe['label_time']=='medium']\n",
    "df_hard=partial_dataframe[partial_dataframe['label_time']=='hard']\n",
    "print(\"Maximum value of consistency time in easy time category= \",df_easy['consistency_time_milsecs'].max(),\"Minimum value of consistency time in easy time category= \",df_easy['consistency_time_milsecs'].min())\n",
    "print(\"Shape of easy time category= \",df_easy.shape)\n",
    "\n",
    "print(\"Maximum value of consistency time in medium time category= \",df_medium['consistency_time_milsecs'].max(),\"Minimum value of consistency time in medium time category= \",df_medium['consistency_time_milsecs'].min())\n",
    "print(\"Shape of medium time category= \",df_medium.shape)\n",
    "\n",
    "print(\"Maximum value of consistency time in hard time category= \",df_hard['consistency_time_milsecs'].max(),\"Minimum value of consistency time in hard time category= \",df_hard['consistency_time_milsecs'].min())\n",
    "print(\"Shape of hard time category= \",df_hard.shape)\n",
    "\n",
    "#************this ends BIRCH CLUSTERING *************************"
   ]
  },
  {
   "cell_type": "code",
   "execution_count": 52,
   "metadata": {},
   "outputs": [
    {
     "name": "stdout",
     "output_type": "stream",
     "text": [
      "(16433, 8)\n",
      "(16433, 7)\n"
     ]
    }
   ],
   "source": [
    "#************* now checking the third clustering method ********************\n",
    "\n",
    "# *********************** DBSCAN clustering method**********\n",
    "\n",
    "partial_dataframe=full_dataframe.iloc[0:16433,:]  # contains non scaled values\n",
    "print(partial_dataframe.shape)\n",
    "t=df_MinMax.head(16433)  # contains scaled values\n",
    "print(t.shape)\n",
    "\n"
   ]
  },
  {
   "cell_type": "code",
   "execution_count": 53,
   "metadata": {},
   "outputs": [
    {
     "name": "stdout",
     "output_type": "stream",
     "text": [
      "[0 0 0 ... 0 0 0] 6\n"
     ]
    },
    {
     "name": "stderr",
     "output_type": "stream",
     "text": [
      "<ipython-input-53-2a0f06ae55b7>:8: SettingWithCopyWarning: \n",
      "A value is trying to be set on a copy of a slice from a DataFrame.\n",
      "Try using .loc[row_indexer,col_indexer] = value instead\n",
      "\n",
      "See the caveats in the documentation: https://pandas.pydata.org/pandas-docs/stable/user_guide/indexing.html#returning-a-view-versus-a-copy\n",
      "  t['cluster']=y_predicted\n"
     ]
    },
    {
     "data": {
      "image/png": "[encoded data removed]",
      "text/plain": [
       "<Figure size 432x288 with 1 Axes>"
      ]
     },
     "metadata": {
      "needs_background": "light"
     },
     "output_type": "display_data"
    }
   ],
   "source": [
    "# cluster based on time  into easy, medium and hard\n",
    "\n",
    "from sklearn.cluster import DBSCAN # density based clustering\n",
    "\n",
    "brc = DBSCAN(eps = 0.02, min_samples = 5)\n",
    "y_predicted=brc.fit_predict(t[[\"consistency_time_milsecs\"]])\n",
    "print(y_predicted, np.sum(y_predicted))\n",
    "t['cluster']=y_predicted\n",
    "\n",
    "t1=t[t['cluster']==0] # contains class 0\n",
    "t2=t[t['cluster']==1] # contains class 1\n",
    "t3=t[t['cluster']==2] # class 2 is not present \n",
    "\n",
    "plt.scatter(t1[\"consistency_time_milsecs\"],t1[\"consistency_size_kb\"],c='black',label='easy_time')\n",
    "plt.scatter(t2[\"consistency_time_milsecs\"],t2[\"consistency_size_kb\"],c='green',label='hard_time')\n",
    "plt.scatter(t3[\"consistency_time_milsecs\"],t3[\"consistency_size_kb\"],c='red')\n",
    "plt.xlabel('time_in_milisecs')\n",
    "plt.ylabel('size_in_kb')\n",
    "plt.legend()\n",
    "plt.show()\n"
   ]
  },
  {
   "cell_type": "code",
   "execution_count": 54,
   "metadata": {},
   "outputs": [
    {
     "name": "stderr",
     "output_type": "stream",
     "text": [
      "<ipython-input-54-44a443e3bbc0>:13: SettingWithCopyWarning: \n",
      "A value is trying to be set on a copy of a slice from a DataFrame.\n",
      "Try using .loc[row_indexer,col_indexer] = value instead\n",
      "\n",
      "See the caveats in the documentation: https://pandas.pydata.org/pandas-docs/stable/user_guide/indexing.html#returning-a-view-versus-a-copy\n",
      "  partial_dataframe['label_time']=label_col\n"
     ]
    }
   ],
   "source": [
    "# this only gives two classes after clustering, which is easy and hard. There is no medium class. So this \n",
    "# is not a proper clustering method since we dont get 3 clustering classes\n",
    "\n",
    "label_col=[]\n",
    "for i in range((y_predicted.shape[0])):\n",
    "    if y_predicted[i]==0:\n",
    "        label_col.append('easy')  # contains easy class           # we consider two classes are easy and hard time \n",
    "    elif y_predicted[i]==1:\n",
    "        label_col.append('hard')  # contains hard class\n",
    "    else:\n",
    "        label_col.append('medium') # no medium class \n",
    "        \n",
    "partial_dataframe['label_time']=label_col\n"
   ]
  },
  {
   "cell_type": "code",
   "execution_count": 55,
   "metadata": {},
   "outputs": [
    {
     "name": "stdout",
     "output_type": "stream",
     "text": [
      "Maximum value of consistency time in easy time category=  898338 Minimum value of consistency time in easy time category=  13\n",
      "Shape of easy time category=  (16427, 9)\n",
      "Maximum value of consistency time in medium time category=  nan Minimum value of consistency time in medium time category=  nan\n",
      "Shape of medium time category=  (0, 9)\n",
      "Maximum value of consistency time in hard time category=  21600449 Minimum value of consistency time in hard time category=  21600051\n",
      "Shape of hard time category=  (6, 9)\n"
     ]
    }
   ],
   "source": [
    "# this section tells after DBSCAN clustering how many ontologies are in easy, medium and hard category\n",
    "\n",
    "# collect the easy , medium and hard ones based on time\n",
    "\n",
    "df_easy=partial_dataframe[partial_dataframe['label_time']=='easy']\n",
    "df_medium=partial_dataframe[partial_dataframe['label_time']=='medium']\n",
    "df_hard=partial_dataframe[partial_dataframe['label_time']=='hard']\n",
    "print(\"Maximum value of consistency time in easy time category= \",df_easy['consistency_time_milsecs'].max(),\"Minimum value of consistency time in easy time category= \",df_easy['consistency_time_milsecs'].min())\n",
    "print(\"Shape of easy time category= \",df_easy.shape)\n",
    "\n",
    "print(\"Maximum value of consistency time in medium time category= \",df_medium['consistency_time_milsecs'].max(),\"Minimum value of consistency time in medium time category= \",df_medium['consistency_time_milsecs'].min())\n",
    "print(\"Shape of medium time category= \",df_medium.shape)\n",
    "\n",
    "print(\"Maximum value of consistency time in hard time category= \",df_hard['consistency_time_milsecs'].max(),\"Minimum value of consistency time in hard time category= \",df_hard['consistency_time_milsecs'].min())\n",
    "print(\"Shape of hard time category= \",df_hard.shape)\n",
    "\n",
    "#**************** this ends DBSCAN clustering algorithm*********************"
   ]
  },
  {
   "cell_type": "code",
   "execution_count": 56,
   "metadata": {},
   "outputs": [
    {
     "name": "stdout",
     "output_type": "stream",
     "text": [
      "(16433, 8)\n",
      "(16433, 7)\n"
     ]
    }
   ],
   "source": [
    "#************** now checking the fourth clustering ********************\n",
    "\n",
    "#*********  Agglomerative Clustering Method ******************\n",
    "\n",
    "partial_dataframe=full_dataframe.iloc[0:16433,:]  # contains non scaled values\n",
    "print(partial_dataframe.shape)\n",
    "t=df_MinMax.head(16433)  # contains scaled values\n",
    "print(t.shape)\n",
    "\n"
   ]
  },
  {
   "cell_type": "code",
   "execution_count": 57,
   "metadata": {},
   "outputs": [
    {
     "name": "stdout",
     "output_type": "stream",
     "text": [
      "[0 0 0 ... 0 0 0] 118\n"
     ]
    },
    {
     "name": "stderr",
     "output_type": "stream",
     "text": [
      "<ipython-input-57-a1670e48e904>:9: SettingWithCopyWarning: \n",
      "A value is trying to be set on a copy of a slice from a DataFrame.\n",
      "Try using .loc[row_indexer,col_indexer] = value instead\n",
      "\n",
      "See the caveats in the documentation: https://pandas.pydata.org/pandas-docs/stable/user_guide/indexing.html#returning-a-view-versus-a-copy\n",
      "  t['cluster']=y_predicted\n"
     ]
    },
    {
     "data": {
      "image/png": "[encoded data removed]",
      "text/plain": [
       "<Figure size 432x288 with 1 Axes>"
      ]
     },
     "metadata": {
      "needs_background": "light"
     },
     "output_type": "display_data"
    }
   ],
   "source": [
    "# cluster based on time  into easy, medium and hard\n",
    "\n",
    "from sklearn.cluster import AgglomerativeClustering # hierachical based clustering\n",
    "\n",
    "\n",
    "agm = AgglomerativeClustering(n_clusters=3,affinity=\"euclidean\",linkage=\"ward\")\n",
    "y_predicted=agm.fit_predict(t[[\"consistency_time_milsecs\"]])\n",
    "print(y_predicted, np.sum(y_predicted))\n",
    "t['cluster']=y_predicted\n",
    "\n",
    "t1=t[t['cluster']==0]  # contains class 0\n",
    "t2=t[t['cluster']==1]  # contains class 1\n",
    "t3=t[t['cluster']==2]  # contains class 2\n",
    "\n",
    "plt.scatter(t1[\"consistency_time_milsecs\"],t1[\"consistency_size_kb\"],c='black',label='easy_time')\n",
    "plt.scatter(t2[\"consistency_time_milsecs\"],t2[\"consistency_size_kb\"],c='green',label='hard_time')\n",
    "plt.scatter(t3[\"consistency_time_milsecs\"],t3[\"consistency_size_kb\"],c='red',label='medium_time')\n",
    "plt.xlabel('time_in_milisecs')\n",
    "plt.ylabel('size_in_kb')\n",
    "plt.legend()\n",
    "plt.show()\n"
   ]
  },
  {
   "cell_type": "code",
   "execution_count": 58,
   "metadata": {},
   "outputs": [
    {
     "name": "stderr",
     "output_type": "stream",
     "text": [
      "<ipython-input-58-20568c7484ec>:12: SettingWithCopyWarning: \n",
      "A value is trying to be set on a copy of a slice from a DataFrame.\n",
      "Try using .loc[row_indexer,col_indexer] = value instead\n",
      "\n",
      "See the caveats in the documentation: https://pandas.pydata.org/pandas-docs/stable/user_guide/indexing.html#returning-a-view-versus-a-copy\n",
      "  partial_dataframe['label_time']=label_col\n"
     ]
    }
   ],
   "source": [
    "# here we get 3 desired clusters easy, medium and hard time , same as K-means clustering \n",
    "\n",
    "label_col=[]\n",
    "for i in range((y_predicted.shape[0])):\n",
    "    if y_predicted[i]==0:\n",
    "        label_col.append('easy')   # easy class\n",
    "    elif y_predicted[i]==1:\n",
    "        label_col.append('hard')   # hard class\n",
    "    else:\n",
    "        label_col.append('medium') # medium class\n",
    "        \n",
    "partial_dataframe['label_time']=label_col\n"
   ]
  },
  {
   "cell_type": "code",
   "execution_count": 59,
   "metadata": {},
   "outputs": [
    {
     "name": "stdout",
     "output_type": "stream",
     "text": [
      "Maximum value of consistency time in easy time category=  308466 Minimum value of consistency time in easy time category=  13\n",
      "Shape of easy time category=  (16371, 9)\n",
      "Maximum value of consistency time in medium time category=  898338 Minimum value of consistency time in medium time category=  500321\n",
      "Shape of medium time category=  (56, 9)\n",
      "Maximum value of consistency time in hard time category=  21600449 Minimum value of consistency time in hard time category=  21600051\n",
      "Shape of hard time category=  (6, 9)\n"
     ]
    }
   ],
   "source": [
    "# this section tells after Agglomerative clustering how many ontologies are in easy, medium and hard category\n",
    "\n",
    "# collect the easy , medium and hard ones based on time\n",
    "\n",
    "df_easy=partial_dataframe[partial_dataframe['label_time']=='easy']\n",
    "df_medium=partial_dataframe[partial_dataframe['label_time']=='medium']\n",
    "df_hard=partial_dataframe[partial_dataframe['label_time']=='hard']\n",
    "print(\"Maximum value of consistency time in easy time category= \",df_easy['consistency_time_milsecs'].max(),\"Minimum value of consistency time in easy time category= \",df_easy['consistency_time_milsecs'].min())\n",
    "print(\"Shape of easy time category= \",df_easy.shape)\n",
    "\n",
    "print(\"Maximum value of consistency time in medium time category= \",df_medium['consistency_time_milsecs'].max(),\"Minimum value of consistency time in medium time category= \",df_medium['consistency_time_milsecs'].min())\n",
    "print(\"Shape of medium time category= \",df_medium.shape)\n",
    "\n",
    "print(\"Maximum value of consistency time in hard time category= \",df_hard['consistency_time_milsecs'].max(),\"Minimum value of consistency time in hard time category= \",df_hard['consistency_time_milsecs'].min())\n",
    "print(\"Shape of hard time category= \",df_hard.shape)\n",
    " \n",
    "# ************ this ends Agglomerative clustering method ********************"
   ]
  },
  {
   "cell_type": "code",
   "execution_count": 60,
   "metadata": {},
   "outputs": [],
   "source": [
    "# so we have K means clustering and Agglomerative clustering working good. But we choose K means to work with \n",
    "# because Agglomerative donot works good for larger dataset, also processing is slow."
   ]
  },
  {
   "cell_type": "code",
   "execution_count": null,
   "metadata": {},
   "outputs": [],
   "source": []
  }
 ],
 "metadata": {
  "kernelspec": {
   "display_name": "Python 3",
   "language": "python",
   "name": "python3"
  },
  "language_info": {
   "codemirror_mode": {
    "name": "ipython",
    "version": 3
   },
   "file_extension": ".py",
   "mimetype": "text/x-python",
   "name": "python",
   "nbconvert_exporter": "python",
   "pygments_lexer": "ipython3",
   "version": "3.8.5"
  }
 },
 "nbformat": 4,
 "nbformat_minor": 4
}
